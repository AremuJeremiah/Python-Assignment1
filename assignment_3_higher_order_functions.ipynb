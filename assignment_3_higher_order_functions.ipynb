{
 "cells": [
  {
   "cell_type": "markdown",
   "id": "1c5b12b7",
   "metadata": {},
   "source": [
    "<div style = \"text-align: left\"><font size = 8 color = \"#B22222\" face = \"verdana\"><b>Integrify</b></font></div>\n",
    "<div style = \"text-align: left\"><font size = 6 color = \"#00008B\" face = \"verdana\"><b>Assignment_3_Higher Order functions</b></font></div>\n",
    "<div style = \"text-align: leftt\"><font><i>By Aremu Jeremiah</i></font></div>\n",
    "<div style = \"text-align: leftt\"><font>04 March 2023</font></div>"
   ]
  },
  {
   "cell_type": "code",
   "execution_count": 3,
   "id": "55c22aee",
   "metadata": {},
   "outputs": [],
   "source": [
    "import pandas as pd\n",
    "import numpy as np\n",
    "import warnings\n",
    "from IPython.display import display, HTML"
   ]
  },
  {
   "cell_type": "code",
   "execution_count": 4,
   "id": "53da798f",
   "metadata": {},
   "outputs": [
    {
     "data": {
      "text/html": [
       "<style>.container { width:100% !important; }</style>"
      ],
      "text/plain": [
       "<IPython.core.display.HTML object>"
      ]
     },
     "metadata": {},
     "output_type": "display_data"
    }
   ],
   "source": [
    "warnings.simplefilter(action='ignore', category=RuntimeWarning)\n",
    "warnings.simplefilter(action='ignore', category=FutureWarning)\n",
    "warnings.simplefilter(action='ignore', category=UserWarning)\n",
    "warnings.simplefilter(action='ignore', category=DeprecationWarning)\n",
    "pd.set_option(\"display.max_columns\", None)\n",
    "pd.set_option(\"display.max_rows\", None)\n",
    "pd.options.display.max_colwidth = None\n",
    "pd.set_option(\"display.float_format\", lambda x: '%.2f' % x)\n",
    "display(HTML(\"<style>.container { width:100% !important; }</style>\"))"
   ]
  },
  {
   "cell_type": "markdown",
   "id": "05152762",
   "metadata": {},
   "source": [
    "1. Write a Python script to implement the map(), filter(), and reduce() functions on a list of integers."
   ]
  },
  {
   "cell_type": "markdown",
   "id": "821de7dc",
   "metadata": {},
   "source": [
    "#### Map"
   ]
  },
  {
   "cell_type": "code",
   "execution_count": 5,
   "id": "8e631918",
   "metadata": {},
   "outputs": [],
   "source": [
    "test_list = [2, 3, 4, 5, 6, 7, 7, 9, 10, 12]"
   ]
  },
  {
   "cell_type": "code",
   "execution_count": 7,
   "id": "a4ea7ead",
   "metadata": {},
   "outputs": [],
   "source": [
    "# map function to square each element in the list \n",
    "# first write a function that squares a number\n",
    "def square_func(x):\n",
    "    squared_x = x **2\n",
    "    return (squared_x)"
   ]
  },
  {
   "cell_type": "code",
   "execution_count": 10,
   "id": "54a84f87",
   "metadata": {},
   "outputs": [
    {
     "data": {
      "text/plain": [
       "[4, 9, 16, 25, 36, 49, 49, 81, 100, 144]"
      ]
     },
     "execution_count": 10,
     "metadata": {},
     "output_type": "execute_result"
    }
   ],
   "source": [
    "# function to square the first element of a list\n",
    "test_list_squared = list(map(lambda x:square_func(x), test_list ))\n",
    "test_list_squared"
   ]
  },
  {
   "cell_type": "code",
   "execution_count": 13,
   "id": "4d45f75d",
   "metadata": {},
   "outputs": [
    {
     "data": {
      "text/plain": [
       "[4, 9, 16, 25, 36, 49, 49, 81, 100, 144]"
      ]
     },
     "execution_count": 13,
     "metadata": {},
     "output_type": "execute_result"
    }
   ],
   "source": [
    "# using map to square the first element of a list can also be implemented as follows\n",
    "test_list_sqrd = list(map(lambda x:x**2, test_list))\n",
    "test_list_sqrd"
   ]
  },
  {
   "cell_type": "markdown",
   "id": "2ef48534",
   "metadata": {},
   "source": [
    "#### Filter"
   ]
  },
  {
   "cell_type": "code",
   "execution_count": 28,
   "id": "4511f1a9",
   "metadata": {},
   "outputs": [
    {
     "name": "stdout",
     "output_type": "stream",
     "text": [
      "[2, 4, 6, 10, 12]\n"
     ]
    }
   ],
   "source": [
    "# to use the reduce function to remove all odd numbers from a list\n",
    "filtered_list = filter(lambda x:(x%2==0), test_list)\n",
    "print(list(filtered_list))"
   ]
  },
  {
   "cell_type": "markdown",
   "id": "e163cc4a",
   "metadata": {},
   "source": [
    "#### Reduce"
   ]
  },
  {
   "cell_type": "code",
   "execution_count": 29,
   "id": "bb4ba8d5",
   "metadata": {},
   "outputs": [],
   "source": [
    "from functools import reduce"
   ]
  },
  {
   "cell_type": "code",
   "execution_count": 35,
   "id": "06b45ac1",
   "metadata": {},
   "outputs": [],
   "source": [
    "test_list_2 = [1,2,3,4]"
   ]
  },
  {
   "cell_type": "code",
   "execution_count": 37,
   "id": "86b3c607",
   "metadata": {},
   "outputs": [
    {
     "data": {
      "text/plain": [
       "5760"
      ]
     },
     "execution_count": 37,
     "metadata": {},
     "output_type": "execute_result"
    }
   ],
   "source": [
    "# to use the reduce function to find the product of all even numbers in the list\n",
    "reduce(lambda x, y:x * y, filter(lambda x:(x%2==0), test_list))"
   ]
  },
  {
   "cell_type": "code",
   "execution_count": 38,
   "id": "eb1b7ad3",
   "metadata": {},
   "outputs": [
    {
     "data": {
      "text/plain": [
       "8"
      ]
     },
     "execution_count": 38,
     "metadata": {},
     "output_type": "execute_result"
    }
   ],
   "source": [
    "# to use the reduce function to find the product of all even numbers in the list\n",
    "reduce(lambda x, y:x * y, filter(lambda x:(x%2==0), test_list_2))"
   ]
  },
  {
   "cell_type": "code",
   "execution_count": 42,
   "id": "e53d4f17",
   "metadata": {},
   "outputs": [],
   "source": [
    "def square(x):\n",
    "    \"\"\"\n",
    "    this function squares the element of a list\n",
    "    \"\"\"\n",
    "    z = x **2\n",
    "    return z"
   ]
  },
  {
   "cell_type": "code",
   "execution_count": 43,
   "id": "b11a63ea",
   "metadata": {},
   "outputs": [],
   "source": [
    "def product(x,y):\n",
    "    \"\"\"\n",
    "    this function computes the product of two numbers\n",
    "    \"\"\"\n",
    "    q = x * y\n",
    "    return q"
   ]
  },
  {
   "cell_type": "code",
   "execution_count": 45,
   "id": "1d8e9e13",
   "metadata": {},
   "outputs": [],
   "source": [
    "number = [1, 2, 3, 4, 5, 6, 7, 8, 9]"
   ]
  },
  {
   "cell_type": "markdown",
   "id": "2b958e57",
   "metadata": {},
   "source": [
    "#### Map with helper function"
   ]
  },
  {
   "cell_type": "code",
   "execution_count": 48,
   "id": "b642ef10",
   "metadata": {},
   "outputs": [
    {
     "data": {
      "text/plain": [
       "[1, 4, 9, 16, 25, 36, 49, 64, 81]"
      ]
     },
     "execution_count": 48,
     "metadata": {},
     "output_type": "execute_result"
    }
   ],
   "source": [
    "map_list = list(map(lambda x:square(x), number ))\n",
    "map_list"
   ]
  },
  {
   "cell_type": "markdown",
   "id": "7198e3ac",
   "metadata": {},
   "source": [
    "#### Filter function with helper function"
   ]
  },
  {
   "cell_type": "code",
   "execution_count": 49,
   "id": "dc29c4b2",
   "metadata": {},
   "outputs": [],
   "source": [
    "# to use the reduce function to remove all odd numbers from a list\n",
    "def filter_odd(x):\n",
    "    filtered_list = filter(lambda x:(x%2==0), x)\n",
    "    return filtered_list"
   ]
  },
  {
   "cell_type": "code",
   "execution_count": 64,
   "id": "85a42b6b",
   "metadata": {},
   "outputs": [
    {
     "data": {
      "text/plain": [
       "[2, 4, 6, 8]"
      ]
     },
     "execution_count": 64,
     "metadata": {},
     "output_type": "execute_result"
    }
   ],
   "source": [
    "filtered_lists = list(filter(lambda x:x % 2 ==0, number))\n",
    "filtered_lists"
   ]
  },
  {
   "cell_type": "markdown",
   "id": "2796383f",
   "metadata": {},
   "source": [
    "#### Reduce function using helper function"
   ]
  },
  {
   "cell_type": "code",
   "execution_count": 66,
   "id": "0eb9ba34",
   "metadata": {},
   "outputs": [
    {
     "data": {
      "text/plain": [
       "384"
      ]
     },
     "execution_count": 66,
     "metadata": {},
     "output_type": "execute_result"
    }
   ],
   "source": [
    " # to use the reduce function to find the product of all even numbers in a list\n",
    "product_list = reduce(product, filtered_lists)\n",
    "product_list"
   ]
  }
 ],
 "metadata": {
  "kernelspec": {
   "display_name": "Python 3 (ipykernel)",
   "language": "python",
   "name": "python3"
  },
  "language_info": {
   "codemirror_mode": {
    "name": "ipython",
    "version": 3
   },
   "file_extension": ".py",
   "mimetype": "text/x-python",
   "name": "python",
   "nbconvert_exporter": "python",
   "pygments_lexer": "ipython3",
   "version": "3.9.12"
  }
 },
 "nbformat": 4,
 "nbformat_minor": 5
}
